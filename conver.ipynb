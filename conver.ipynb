{
 "cells": [
  {
   "cell_type": "code",
   "execution_count": 15,
   "metadata": {},
   "outputs": [
    {
     "name": "stdout",
     "output_type": "stream",
     "text": [
      "Optimizer configuration: {'name': 'Adam', 'learning_rate': 0.001, 'decay': 0.0, 'beta_1': 0.9, 'beta_2': 0.999, 'epsilon': 1e-07, 'amsgrad': False}\n",
      "Model converted successfully!\n"
     ]
    }
   ],
   "source": [
    "import tensorflow as tf\n",
    "import tensorflowjs as tfjs\n",
    "\n",
    "try:\n",
    "    # Load your Keras model\n",
    "    model = tf.keras.models.load_model('C:\\\\Users\\\\surfc\\\\IdeaProjects\\\\FishID\\\\my_model.h5')\n",
    "\n",
    "    # Compile the model\n",
    "    model.compile(optimizer='adam', loss='categorical_crossentropy', metrics=['accuracy'])\n",
    "\n",
    "    # Print optimizer configuration\n",
    "    print(\"Optimizer configuration:\", model.optimizer.get_config())\n",
    "\n",
    "    # Convert the model to TensorFlow.js format\n",
    "    tfjs.converters.save_keras_model(model, 'C:\\\\Users\\\\surfc\\\\IdeaProjects\\\\FishID\\\\conmodel')\n",
    "    print(\"Model converted successfully!\")\n",
    "except Exception as e:\n",
    "    print(\"Error:\", e)\n"
   ]
  }
 ],
 "metadata": {
  "kernelspec": {
   "display_name": "myenv",
   "language": "python",
   "name": "python3"
  },
  "language_info": {
   "codemirror_mode": {
    "name": "ipython",
    "version": 3
   },
   "file_extension": ".py",
   "mimetype": "text/x-python",
   "name": "python",
   "nbconvert_exporter": "python",
   "pygments_lexer": "ipython3",
   "version": "3.7.16"
  }
 },
 "nbformat": 4,
 "nbformat_minor": 2
}
