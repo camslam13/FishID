{
 "cells": [
  {
   "cell_type": "code",
   "execution_count": 2,
   "metadata": {},
   "outputs": [],
   "source": [
    "import os\n",
    "import tensorflow as tf\n",
    "import scipy\n",
    "from keras.preprocessing.image import ImageDataGenerator\n",
    "from keras.models import Sequential\n",
    "from keras.layers import BatchNormalization,Conv2D, MaxPooling2D, Flatten, Dense, Dropout\n",
    "from PIL import Image\n",
    "from tensorflow.keras.optimizers import Adam"
   ]
  },
  {
   "cell_type": "code",
   "execution_count": 3,
   "metadata": {},
   "outputs": [],
   "source": [
    "# Define the image dimensions and number of classes\n",
    "img_width, img_height = 150, 150\n",
    "num_classes = 3"
   ]
  },
  {
   "cell_type": "code",
   "execution_count": 4,
   "metadata": {},
   "outputs": [],
   "source": [
    "# Create a CNN model\n",
    "model = Sequential()\n",
    "model.add(Conv2D(32, (3, 3), activation='relu', input_shape=(img_width, img_height, 3)))\n",
    "model.add(MaxPooling2D((2, 2)))\n",
    "\n",
    "model.add(Conv2D(64, (3, 3), activation='relu'))\n",
    "model.add(MaxPooling2D((2, 2)))\n",
    "\n",
    "model.add(Conv2D(128, (3, 3), activation='relu'))\n",
    "model.add(MaxPooling2D((2, 2)))\n",
    "\n",
    "model.add(Conv2D(256, (3, 3), activation='relu'))\n",
    "model.add(MaxPooling2D((2, 2)))\n",
    "\n",
    "model.add(Flatten())\n",
    "model.add(Dense(256, activation='relu'))\n",
    "model.add(Dense(num_classes, activation='softmax'))"
   ]
  },
  {
   "cell_type": "code",
   "execution_count": 5,
   "metadata": {},
   "outputs": [],
   "source": [
    "# Compile the model\n",
    "model.compile(optimizer='adam', loss='categorical_crossentropy', metrics=['accuracy'])"
   ]
  },
  {
   "cell_type": "code",
   "execution_count": 6,
   "metadata": {},
   "outputs": [
    {
     "name": "stdout",
     "output_type": "stream",
     "text": [
      "Found 300 images belonging to 3 classes.\n",
      "Found 145 images belonging to 3 classes.\n"
     ]
    }
   ],
   "source": [
    "# Define data generators for training and testing\n",
    "train_datagen = ImageDataGenerator(rescale=1./255)\n",
    "test_datagen = ImageDataGenerator(rescale=1./255)\n",
    "\n",
    "train_generator = train_datagen.flow_from_directory(\n",
    "    'C:\\\\Users\\\\surfc\\\\IdeaProjects\\\\FishID\\\\fishTrain',\n",
    "    target_size=(img_width, img_height),\n",
    "    batch_size=32,\n",
    "    class_mode='categorical')\n",
    "\n",
    "test_generator = test_datagen.flow_from_directory(\n",
    "    'C:\\\\Users\\\\surfc\\\\IdeaProjects\\\\FishID\\\\fishTest',\n",
    "    target_size=(img_width, img_height),\n",
    "    batch_size=32,\n",
    "    class_mode='categorical')"
   ]
  },
  {
   "cell_type": "code",
   "execution_count": 7,
   "metadata": {},
   "outputs": [
    {
     "name": "stdout",
     "output_type": "stream",
     "text": [
      "Epoch 1/10\n",
      "10/10 [==============================] - 15s 1s/step - loss: 1.1240 - accuracy: 0.3433 - val_loss: 1.0770 - val_accuracy: 0.3448\n",
      "Epoch 2/10\n",
      "10/10 [==============================] - 12s 1s/step - loss: 1.0015 - accuracy: 0.4700 - val_loss: 0.9757 - val_accuracy: 0.4621\n",
      "Epoch 3/10\n",
      "10/10 [==============================] - 12s 1s/step - loss: 0.7685 - accuracy: 0.6567 - val_loss: 0.8937 - val_accuracy: 0.5931\n",
      "Epoch 4/10\n",
      "10/10 [==============================] - 12s 1s/step - loss: 0.7361 - accuracy: 0.6200 - val_loss: 0.8282 - val_accuracy: 0.6000\n",
      "Epoch 5/10\n",
      "10/10 [==============================] - 11s 1s/step - loss: 0.6668 - accuracy: 0.7067 - val_loss: 0.8982 - val_accuracy: 0.6828\n",
      "Epoch 6/10\n",
      "10/10 [==============================] - 12s 1s/step - loss: 0.6537 - accuracy: 0.7600 - val_loss: 0.6645 - val_accuracy: 0.7103\n",
      "Epoch 7/10\n",
      "10/10 [==============================] - 12s 1s/step - loss: 0.6057 - accuracy: 0.7400 - val_loss: 0.6293 - val_accuracy: 0.7172\n",
      "Epoch 8/10\n",
      "10/10 [==============================] - 14s 1s/step - loss: 0.4866 - accuracy: 0.8100 - val_loss: 0.5848 - val_accuracy: 0.7379\n",
      "Epoch 9/10\n",
      "10/10 [==============================] - 17s 2s/step - loss: 0.5146 - accuracy: 0.7633 - val_loss: 0.6637 - val_accuracy: 0.7379\n",
      "Epoch 10/10\n",
      "10/10 [==============================] - 15s 1s/step - loss: 0.4025 - accuracy: 0.8500 - val_loss: 0.6378 - val_accuracy: 0.7655\n"
     ]
    },
    {
     "data": {
      "text/plain": [
       "<keras.callbacks.History at 0x208d1641148>"
      ]
     },
     "execution_count": 7,
     "metadata": {},
     "output_type": "execute_result"
    }
   ],
   "source": [
    "# Train the model\n",
    "model.fit(train_generator, epochs=10, validation_data=test_generator)"
   ]
  },
  {
   "cell_type": "code",
   "execution_count": 8,
   "metadata": {},
   "outputs": [],
   "source": [
    "# Save the trained model to an HDF5 file\n",
    "model.save('my_model.h5')"
   ]
  },
  {
   "cell_type": "code",
   "execution_count": 9,
   "metadata": {},
   "outputs": [
    {
     "name": "stdout",
     "output_type": "stream",
     "text": [
      "5/5 [==============================] - 1s 201ms/step - loss: 0.6378 - accuracy: 0.7655\n",
      "Test Accuracy: 76.55%\n"
     ]
    },
    {
     "ename": "",
     "evalue": "",
     "output_type": "error",
     "traceback": [
      "\u001b[1;31mThe Kernel crashed while executing code in the current cell or a previous cell. \n",
      "\u001b[1;31mPlease review the code in the cell(s) to identify a possible cause of the failure. \n",
      "\u001b[1;31mClick <a href='https://aka.ms/vscodeJupyterKernelCrash'>here</a> for more info. \n",
      "\u001b[1;31mView Jupyter <a href='command:jupyter.viewOutput'>log</a> for further details."
     ]
    }
   ],
   "source": [
    "# Evaluate the model\n",
    "test_loss, test_accuracy = model.evaluate(test_generator)\n",
    "print(f\"Test Accuracy: {test_accuracy * 100:.2f}%\")"
   ]
  }
 ],
 "metadata": {
  "kernelspec": {
   "display_name": "myenv",
   "language": "python",
   "name": "python3"
  },
  "language_info": {
   "codemirror_mode": {
    "name": "ipython",
    "version": 3
   },
   "file_extension": ".py",
   "mimetype": "text/x-python",
   "name": "python",
   "nbconvert_exporter": "python",
   "pygments_lexer": "ipython3",
   "version": "3.7.16"
  }
 },
 "nbformat": 4,
 "nbformat_minor": 2
}
